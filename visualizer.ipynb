{
 "cells": [
  {
   "cell_type": "code",
   "execution_count": 1,
   "metadata": {},
   "outputs": [
    {
     "name": "stderr",
     "output_type": "stream",
     "text": [
      "c:\\Users\\omi222\\Anaconda3\\envs\\project_lehigh\\lib\\site-packages\\tqdm\\auto.py:22: TqdmWarning: IProgress not found. Please update jupyter and ipywidgets. See https://ipywidgets.readthedocs.io/en/stable/user_install.html\n",
      "  from .autonotebook import tqdm as notebook_tqdm\n"
     ]
    }
   ],
   "source": [
    "import torch\n",
    "import torch.nn as nn\n",
    "import torch.nn.functional as F"
   ]
  },
  {
   "cell_type": "code",
   "execution_count": 3,
   "metadata": {},
   "outputs": [
    {
     "data": {
      "text/plain": [
       "(tensor([-1.0000, -0.9000, -0.8000, -0.7000, -0.6000, -0.5000, -0.4000, -0.3000,\n",
       "         -0.2000, -0.1000,  0.0000,  0.1000,  0.2000,  0.3000,  0.4000,  0.5000,\n",
       "          0.6000,  0.7000,  0.8000,  0.9000,  1.0000]),\n",
       " tensor([0.0000, 0.1000, 0.2000, 0.3000, 0.4000, 0.5000, 0.6000, 0.7000, 0.8000,\n",
       "         0.9000, 1.0000]))"
      ]
     },
     "execution_count": 3,
     "metadata": {},
     "output_type": "execute_result"
    }
   ],
   "source": [
    "x = torch.arange(-1, 1.1, 0.1)\n",
    "t = torch.arange(0, 1.1, 0.1)\n",
    "x, t"
   ]
  },
  {
   "cell_type": "code",
   "execution_count": 36,
   "metadata": {},
   "outputs": [
    {
     "data": {
      "text/plain": [
       "tensor([[-1.0000,  0.0000],\n",
       "        [-1.0000,  0.1000],\n",
       "        [-1.0000,  0.2000],\n",
       "        [-1.0000,  0.3000],\n",
       "        [-1.0000,  0.4000],\n",
       "        [-1.0000,  0.5000],\n",
       "        [-1.0000,  0.6000],\n",
       "        [-1.0000,  0.7000],\n",
       "        [-1.0000,  0.8000],\n",
       "        [-1.0000,  0.9000],\n",
       "        [-1.0000,  1.0000]])"
      ]
     },
     "execution_count": 36,
     "metadata": {},
     "output_type": "execute_result"
    }
   ],
   "source": [
    "torch.stack(torch.meshgrid(x[0], t, indexing = 'xy')).reshape(2, -1).T"
   ]
  },
  {
   "cell_type": "code",
   "execution_count": 30,
   "metadata": {},
   "outputs": [
    {
     "data": {
      "text/plain": [
       "tensor([[-1.0000,  0.0000],\n",
       "        [-1.0000,  0.1000],\n",
       "        [-1.0000,  0.2000],\n",
       "        [-1.0000,  0.3000],\n",
       "        [-1.0000,  0.4000],\n",
       "        [-1.0000,  0.5000],\n",
       "        [-1.0000,  0.6000],\n",
       "        [-1.0000,  0.7000],\n",
       "        [-1.0000,  0.8000],\n",
       "        [-1.0000,  0.9000],\n",
       "        [-1.0000,  1.0000],\n",
       "        [ 1.0000,  0.0000],\n",
       "        [ 1.0000,  0.1000],\n",
       "        [ 1.0000,  0.2000],\n",
       "        [ 1.0000,  0.3000],\n",
       "        [ 1.0000,  0.4000],\n",
       "        [ 1.0000,  0.5000],\n",
       "        [ 1.0000,  0.6000],\n",
       "        [ 1.0000,  0.7000],\n",
       "        [ 1.0000,  0.8000],\n",
       "        [ 1.0000,  0.9000],\n",
       "        [ 1.0000,  1.0000],\n",
       "        [-1.0000,  0.0000],\n",
       "        [-0.9000,  0.0000],\n",
       "        [-0.8000,  0.0000],\n",
       "        [-0.7000,  0.0000],\n",
       "        [-0.6000,  0.0000],\n",
       "        [-0.5000,  0.0000],\n",
       "        [-0.4000,  0.0000],\n",
       "        [-0.3000,  0.0000],\n",
       "        [-0.2000,  0.0000],\n",
       "        [-0.1000,  0.0000],\n",
       "        [ 0.0000,  0.0000],\n",
       "        [ 0.1000,  0.0000],\n",
       "        [ 0.2000,  0.0000],\n",
       "        [ 0.3000,  0.0000],\n",
       "        [ 0.4000,  0.0000],\n",
       "        [ 0.5000,  0.0000],\n",
       "        [ 0.6000,  0.0000],\n",
       "        [ 0.7000,  0.0000],\n",
       "        [ 0.8000,  0.0000],\n",
       "        [ 0.9000,  0.0000],\n",
       "        [ 1.0000,  0.0000]])"
      ]
     },
     "execution_count": 30,
     "metadata": {},
     "output_type": "execute_result"
    }
   ],
   "source": [
    "bc1 = torch.stack(torch.meshgrid(x[0], t)).reshape(2, -1).T\n",
    "bc2 = torch.stack(torch.meshgrid(x[-1], t)).reshape(2, -1).T\n",
    "ic = torch.stack(torch.meshgrid(x, t[0])).reshape(2, -1).T # INtroducing variability into dataset?????????\n",
    "torch.cat([bc1, bc2, ic])\n",
    "\n"
   ]
  },
  {
   "cell_type": "code",
   "execution_count": 32,
   "metadata": {},
   "outputs": [
    {
     "data": {
      "text/plain": [
       "tensor([-1.0000, -0.9000, -0.8000, -0.7000, -0.6000, -0.5000, -0.4000, -0.3000,\n",
       "        -0.2000, -0.1000,  0.0000,  0.1000,  0.2000,  0.3000,  0.4000,  0.5000,\n",
       "         0.6000,  0.7000,  0.8000,  0.9000,  1.0000])"
      ]
     },
     "execution_count": 32,
     "metadata": {},
     "output_type": "execute_result"
    }
   ],
   "source": [
    "ic[:, 0]"
   ]
  }
 ],
 "metadata": {
  "kernelspec": {
   "display_name": "Python 3.9.13 ('project_lehigh')",
   "language": "python",
   "name": "python3"
  },
  "language_info": {
   "codemirror_mode": {
    "name": "ipython",
    "version": 3
   },
   "file_extension": ".py",
   "mimetype": "text/x-python",
   "name": "python",
   "nbconvert_exporter": "python",
   "pygments_lexer": "ipython3",
   "version": "3.9.13"
  },
  "orig_nbformat": 4,
  "vscode": {
   "interpreter": {
    "hash": "4281d98b6574c6fe5d5d4e9632abfb8056ecafc91c1d96153d145ad8ef7d2c48"
   }
  }
 },
 "nbformat": 4,
 "nbformat_minor": 2
}
